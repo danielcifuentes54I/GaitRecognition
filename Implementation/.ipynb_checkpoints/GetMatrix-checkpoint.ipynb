{
 "cells": [
  {
   "cell_type": "code",
   "execution_count": 2,
   "metadata": {},
   "outputs": [
    {
     "name": "stderr",
     "output_type": "stream",
     "text": [
      "C:\\Users\\user\\Anaconda3\\lib\\site-packages\\h5py\\__init__.py:36: FutureWarning: Conversion of the second argument of issubdtype from `float` to `np.floating` is deprecated. In future, it will be treated as `np.float64 == np.dtype(float).type`.\n",
      "  from ._conv import register_converters as _register_converters\n",
      "Using TensorFlow backend.\n"
     ]
    }
   ],
   "source": [
    "'''Autores: Daniel Esteban Cifuentes Cossio\n",
    "            Cristian Cano Osorio\n",
    "   Asesor:  Pedro Atencio Ortiz'''\n",
    "\n",
    "#Carga de librerias necesarias\n",
    "\n",
    "import numpy as np\n",
    "import pickle as pk\n",
    "\n",
    "from keras.models import Model\n",
    "from keras.applications import vgg16\n",
    "from keras.applications.vgg16 import preprocess_input, decode_predictions\n",
    "from keras.preprocessing import image\n",
    "\n",
    "from skimage.io import imread, imshow\n",
    "from skimage.transform import resize\n",
    "import cv2\n",
    "\n",
    "from PIL import Image\n",
    "\n",
    "from os import listdir\n",
    "from os.path import isfile\n",
    "\n"
   ]
  },
  {
   "cell_type": "code",
   "execution_count": 3,
   "metadata": {},
   "outputs": [],
   "source": [
    "'''\n",
    "Pedro Atencio\n",
    "2018\n",
    "Este ejemplo extrae la activacion de la pernultima capa\n",
    "de una red neuronal profunda pre-entrenada. En este caso\n",
    "VGG16. \n",
    "En este codigo se utilizo Keras 2.1.6, Tensorflow 1.8.0\n",
    "'''\n",
    "#1. Cargamos el modelo completo\n",
    "vgg16_model = vgg16.VGG16(include_top=True, weights='imagenet', input_tensor=None, input_shape=None, pooling=None, classes=1000)\n",
    "\n",
    "#2. Creamos el modelo intermedio (penultima capa) a partir del modelo completo\n",
    "vgg16_int_model = Model(inputs=vgg16_model.input, outputs = vgg16_model.get_layer('fc2').output)\n",
    "\n",
    "\n",
    "#Función la cual carga una imagen, se pre-procesa y se obtiene el vector de activación\n",
    "\n",
    "def obtenerActivacion(img):\n",
    "\n",
    "    #Cargamos la imagen y la pre-procesamos\n",
    "    x = resize(img, output_shape=(224, 224))\n",
    "    x = np.expand_dims(x, axis=0)\n",
    "    x = x.astype(np.float64)*255.0\n",
    "    x = preprocess_input(x)\n",
    "\n",
    "    #Enviamos la imagen al modelo y obtenemos el vector de activacion de la penultima capa\n",
    "    deep_feature = vgg16_int_model.predict(x)\n",
    "    return deep_feature\n",
    "    "
   ]
  },
  {
   "cell_type": "code",
   "execution_count": 4,
   "metadata": {},
   "outputs": [],
   "source": [
    "'''Método para traer la intersección de una imagen a color (3 canales)\n",
    "y su respectiva mascara (1 canal)'''\n",
    "\n",
    "\n",
    "def transformarImagen(rutaColor,rutaBlancoNegro):\n",
    "        \n",
    "    #Se lee las imagenenes\n",
    "    imagenColor = imread(rutaColor)\n",
    "    imagenBN = imread(rutaBlancoNegro)\n",
    "    #se utiliza bitwise_and para obtener su intersección\n",
    "    imcv = cv2.bitwise_and(imagenColor[:,:,0],imagenBN,1)\n",
    "    imcv2 = cv2.bitwise_and(imagenColor[:,:,1],imagenBN,1)\n",
    "    imcv3 = cv2.bitwise_and(imagenColor[:,:,2],imagenBN,1)\n",
    "    \n",
    "    #se convierte nuevamente a una imagén RGB (3 canales)\n",
    "    rgbArray = np.zeros((480,640,3), 'uint8')\n",
    "    rgbArray[..., 0] = imcv\n",
    "    rgbArray[..., 1] = imcv2\n",
    "    rgbArray[..., 2] = imcv3\n",
    "    img = Image.fromarray(rgbArray)  \n",
    "    image = np.asarray(img, dtype=np.uint8)\n",
    "\n",
    "    return (image)\n"
   ]
  },
  {
   "cell_type": "code",
   "execution_count": 5,
   "metadata": {},
   "outputs": [],
   "source": [
    "#Guarda una matriz en una ruta especifica\n",
    "def saveMatrix(name, path, matrix):\n",
    "    sv=path+name\n",
    "    with open(sv,'wb') as fp:\n",
    "        pk.dump(matrix,fp)\n",
    "\n",
    "#Carga una matriz en una ruta especifica\n",
    "def loadMatrix(name, path):\n",
    "    sv=path+name\n",
    "    with open(sv,'rb') as fp:\n",
    "        return pk.load(fp)"
   ]
  },
  {
   "cell_type": "code",
   "execution_count": 6,
   "metadata": {},
   "outputs": [],
   "source": [
    "#Obtiene la cantidad de archivos en una ruta especifica\n",
    "def get_dataset_size(path):\n",
    "    files = listdir(path)\n",
    "    \n",
    "    number_of_folders = 0\n",
    "    for f in files:\n",
    "        number_of_folders += 1\n",
    "    \n",
    "    return number_of_folders"
   ]
  },
  {
   "cell_type": "code",
   "execution_count": 18,
   "metadata": {},
   "outputs": [],
   "source": [
    "'''Ejemplo de ejecución\n",
    "\n",
    "Este ejemplo crea un archivo llamado prueba\n",
    "el cual contiene una matriz de m x 4096 donde m\n",
    "es igual al número de imagenes procesadas, \n",
    "los datos para la matriz son los obtenidos por \n",
    "el modelo vgg16 en su penúltima capa'''\n",
    "\n",
    "\n",
    "def ProcesarImagenesPorCarpeta(pathImagesColor,pathImagesSegment,pathFolderResult,nameResultMatrix):\n",
    "    imagesColor = listdir(pathImagesColor)\n",
    "    imagesSegment = listdir(pathImagesSegment)\n",
    "    matrixTotal = 0\n",
    "    i = 0\n",
    "\n",
    "    print ('iamgesColor: ', imagesColor)\n",
    "    print ('imagesSegment: ', imagesSegment)\n",
    "    \n",
    "   for img in imagesColor:\n",
    "        print('IMG: ', img)\n",
    "        print('ESTA???: ', if(img imagesSegment)\n",
    "        if (int(img.split(\".\")[0]) > 169):\n",
    "            ##se obtiene cada imagén\n",
    "            i = i +1\n",
    "            imgColor = imread(pathImagesColor+img)\n",
    "            imgSegment = imread(pathImagesSegment+img)\n",
    "            ##Se obtiene la intersección de las imagenes\n",
    "            imgTransform = transformarImagen(pathImagesColor+img,pathImagesSegment+img)\n",
    "            ##Se obtiene la activación\n",
    "            vector = obtenerActivacion(imgTransform)\n",
    "            ##se comienza a partir de la imagén que tambien tiene una mascara\n",
    "            if(int(img.split(\".\")[0]) == 170):\n",
    "                matrixTotal = vector\n",
    "            else:\n",
    "                matrixTotal = np.concatenate ((matrixTotal,vector),axis = 0)\n",
    "    \n",
    "    list=[]\n",
    "    tupla=[]\n",
    "    tupla.append(matrixTotal)\n",
    "    tupla.append(nameResultMatrix)\n",
    "    list.append(tupla)\n",
    "    saveMatrix(nameResultMatrix,pathFolderResult,list)"
   ]
  },
  {
   "cell_type": "code",
   "execution_count": 8,
   "metadata": {},
   "outputs": [
    {
     "name": "stdout",
     "output_type": "stream",
     "text": [
      "[['MATRIX', 'NOMBRE'], ['MATRIX2', 'NOMBRE2']]\n"
     ]
    }
   ],
   "source": [
    "list=[]\n",
    "tupla=[]\n",
    "tupla.append(\"MATRIX\")\n",
    "tupla.append(\"NOMBRE\")\n",
    "list.append(tupla)\n",
    "tupla=[]\n",
    "tupla.append(\"MATRIX2\")\n",
    "tupla.append(\"NOMBRE2\")\n",
    "list.append(tupla)\n",
    "\n",
    "\n",
    "   for img in imagesColor:\n",
    "        if (int(img.split(\".\")[0]) > 169):\n",
    "            ##se obtiene cada imagén\n",
    "            i = i +1\n",
    "            imgColor = imread(pathImagesColor+img)\n",
    "            imgSegment = imread(pathImagesSegment+img)\n",
    "            ##Se obtiene la intersección de las imagenes\n",
    "            imgTransform = transformarImagen(pathImagesColor+img,pathImagesSegment+img)\n",
    "            ##Se obtiene la activación\n",
    "            vector = obtenerActivacion(imgTransform)\n",
    "            ##se comienza a partir de la imagén que tambien tiene una mascara\n",
    "            if(int(img.split(\".\")[0]) == 170):\n",
    "                matrixTotal = vector\n",
    "            else:\n",
    "                matrixTotal = np.concatenate ((matrixTotal,vector),axis = 0)\n",
    "    \n",
    "    list=[]\n",
    "    tupla=[]\n",
    "    tupla.append(matrixTotal)\n",
    "    tupla.append(nameResultMatrix)\n",
    "    list.append(tupla)\n",
    "    saveMatrix(nameResultMatrix,pathFolderResult,list)\n",
    "\n",
    "print (list)"
   ]
  },
  {
   "cell_type": "code",
   "execution_count": 26,
   "metadata": {
    "scrolled": true
   },
   "outputs": [
    {
     "name": "stdout",
     "output_type": "stream",
     "text": [
      "../../Dataset/Color/1/tr01_cam00/\n",
      "../../Dataset/Segmentado/segmented/1/tr01_cam00/\n",
      "../../Dataset/Color/1/tr01_cam01/\n",
      "../../Dataset/Segmentado/segmented/1/tr01_cam01/\n",
      "../../Dataset/Color/1/tr01_cam02/\n",
      "../../Dataset/Segmentado/segmented/1/tr01_cam02/\n",
      "../../Dataset/Color/1/tr01_cam03/\n",
      "../../Dataset/Segmentado/segmented/1/tr01_cam03/\n",
      "../../Dataset/Color/1/tr01_cam05/\n",
      "../../Dataset/Segmentado/segmented/1/tr01_cam05/\n",
      "../../Dataset/Color/1/tr02_cam00/\n",
      "../../Dataset/Segmentado/segmented/1/tr02_cam00/\n",
      "../../Dataset/Color/1/tr02_cam01/\n",
      "../../Dataset/Segmentado/segmented/1/tr02_cam01/\n",
      "../../Dataset/Color/1/tr02_cam02/\n",
      "../../Dataset/Segmentado/segmented/1/tr02_cam02/\n",
      "../../Dataset/Color/1/tr02_cam03/\n",
      "../../Dataset/Segmentado/segmented/1/tr02_cam03/\n",
      "../../Dataset/Color/1/tr02_cam04/\n",
      "../../Dataset/Segmentado/segmented/1/tr02_cam04/\n",
      "../../Dataset/Color/1/tr02_cam05/\n",
      "../../Dataset/Segmentado/segmented/1/tr02_cam05/\n"
     ]
    }
   ],
   "source": [
    "'''Se recorren todas las carpetas\n",
    "del dataset las cuales estan enumeradas del 1 al 10\n",
    "donde cada número es una persona diferente\n",
    "y pra cada persona existen diferentes\n",
    "angulos'''\n",
    "\n",
    "\n",
    "pathFolderColorRoot = \"../../Dataset/Color/\"\n",
    "pathFolderSegmentRoot = \"../../Dataset/Segmentado/segmented/\"\n",
    "pathFolderResult = \"../../Dataset/Results/\"\n",
    "#pathImagesColor = pathFolderRoot+\"Color/1/tr01_cam00/\"\n",
    "#pathImagesSegment = pathFolderRoot+\"Segmentado/segmented/1/tr01_cam00/\"\n",
    "\n",
    "for i in range (1,2):\n",
    "    pathCicloForColor = pathFolderColorRoot+str(i)+\"/\"\n",
    "    pathCicloForSegment = pathFolderSegmentRoot+str(i)+\"/\"\n",
    "    folders = listdir(pathCicloForColor)\n",
    "    for folder in folders:\n",
    "        if \".\" not in folder: \n",
    "            pathImagesColor = pathCicloForColor+folder+\"/\"\n",
    "            pathImagesSegment = pathCicloForSegment+folder+\"/\"\n",
    "            nameResultMatrix = str(i) + \"_\" + str(folder)\n",
    "            \n",
    "            #ProcesarImagenesPorCarpeta(pathImagesColor,pathImagesSegment,pathFolderResult,nameResultMatrix)\n",
    "            \n",
    "            print (pathImagesColor)\n",
    "            print (pathImagesSegment)\n",
    "           # print (pathImagesSegment)\n",
    "           # print (pathFolderResult)\n",
    "           # print (nameResultMatrix)\n",
    "\n",
    "\n",
    "\n",
    "\n",
    "            \n",
    "\n",
    "            "
   ]
  },
  {
   "cell_type": "code",
   "execution_count": 25,
   "metadata": {},
   "outputs": [
    {
     "name": "stderr",
     "output_type": "stream",
     "text": [
      "C:\\Users\\user\\Anaconda3\\lib\\site-packages\\skimage\\transform\\_warps.py:84: UserWarning: The default mode, 'constant', will be changed to 'reflect' in skimage 0.15.\n",
      "  warn(\"The default mode, 'constant', will be changed to 'reflect' in \"\n"
     ]
    }
   ],
   "source": [
    " \n",
    "    \n",
    "    \n",
    "    \n",
    "ProcesarImagenesPorCarpeta(\"../Dataset/Color/1/tr01_cam00/\",\"../../Dataset/Segmentado/segmented/1/tr01_cam00/\",\"../Results/\",\"1_tr01_cam00\")"
   ]
  },
  {
   "cell_type": "code",
   "execution_count": 53,
   "metadata": {},
   "outputs": [
    {
     "name": "stdout",
     "output_type": "stream",
     "text": [
      "[[array([[0.        , 0.5770166 , 0.51340777, ..., 0.        , 0.        ,\n",
      "        1.2363524 ],\n",
      "       [0.        , 0.8326682 , 0.5063835 , ..., 0.        , 0.        ,\n",
      "        1.2805879 ],\n",
      "       [0.        , 0.58754545, 0.4720834 , ..., 0.        , 0.        ,\n",
      "        1.5510166 ],\n",
      "       ...,\n",
      "       [0.        , 2.0358527 , 2.0108402 , ..., 0.        , 0.        ,\n",
      "        1.4215279 ],\n",
      "       [0.        , 0.00330362, 1.6982023 , ..., 0.        , 0.        ,\n",
      "        1.7635529 ],\n",
      "       [0.        , 0.28706786, 1.3867395 , ..., 0.        , 0.        ,\n",
      "        1.7264478 ]], dtype=float32), '1_tr01_cam00']]\n",
      "[array([[0.        , 0.5770166 , 0.51340777, ..., 0.        , 0.        ,\n",
      "        1.2363524 ],\n",
      "       [0.        , 0.8326682 , 0.5063835 , ..., 0.        , 0.        ,\n",
      "        1.2805879 ],\n",
      "       [0.        , 0.58754545, 0.4720834 , ..., 0.        , 0.        ,\n",
      "        1.5510166 ],\n",
      "       ...,\n",
      "       [0.        , 2.0358527 , 2.0108402 , ..., 0.        , 0.        ,\n",
      "        1.4215279 ],\n",
      "       [0.        , 0.00330362, 1.6982023 , ..., 0.        , 0.        ,\n",
      "        1.7635529 ],\n",
      "       [0.        , 0.28706786, 1.3867395 , ..., 0.        , 0.        ,\n",
      "        1.7264478 ]], dtype=float32), '1_tr01_cam00']\n"
     ]
    }
   ],
   "source": [
    "#Verificación de la matrix guardada\n",
    "loadDataset = loadMatrix(\"1_tr01_cam00\",\"../Results/\")\n",
    "#print ('tamaño',loadedMatrix.shape)\n",
    "print (loadDataset)\n",
    "tupla = loadDataset.pop\n",
    "print (tupla(0))\n"
   ]
  },
  {
   "cell_type": "code",
   "execution_count": 29,
   "metadata": {},
   "outputs": [
    {
     "name": "stdout",
     "output_type": "stream",
     "text": [
      "True\n",
      "True\n"
     ]
    }
   ],
   "source": [
    "from pathlib import Path\n",
    "my_file = Path(\"../../Dataset/Segmentado/segmented/1/tr01_cam00/000170.png\")\n",
    "print(my_file.is_file())\n",
    "\n",
    "import os.path\n",
    "print(os.path.exists(\"../../Dataset/Segmentado/segmented/1/tr01_cam00/000170.png\"))"
   ]
  },
  {
   "cell_type": "code",
   "execution_count": null,
   "metadata": {},
   "outputs": [],
   "source": []
  }
 ],
 "metadata": {
  "kernelspec": {
   "display_name": "Python 3",
   "language": "python",
   "name": "python3"
  },
  "language_info": {
   "codemirror_mode": {
    "name": "ipython",
    "version": 3
   },
   "file_extension": ".py",
   "mimetype": "text/x-python",
   "name": "python",
   "nbconvert_exporter": "python",
   "pygments_lexer": "ipython3",
   "version": "3.6.4"
  }
 },
 "nbformat": 4,
 "nbformat_minor": 2
}
