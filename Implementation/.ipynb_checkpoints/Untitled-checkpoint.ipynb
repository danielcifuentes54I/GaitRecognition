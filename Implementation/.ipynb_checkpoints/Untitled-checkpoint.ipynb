{
 "cells": [
  {
   "cell_type": "code",
   "execution_count": 1,
   "metadata": {},
   "outputs": [
    {
     "name": "stderr",
     "output_type": "stream",
     "text": [
      "C:\\Users\\user\\Anaconda3\\lib\\site-packages\\h5py\\__init__.py:36: FutureWarning: Conversion of the second argument of issubdtype from `float` to `np.floating` is deprecated. In future, it will be treated as `np.float64 == np.dtype(float).type`.\n",
      "  from ._conv import register_converters as _register_converters\n",
      "Using TensorFlow backend.\n"
     ]
    }
   ],
   "source": [
    "import keras \n",
    "import sys \n",
    "from keras import backend as K \n",
    "from keras.layers import Conv2D, MaxPooling2D, Dense,Input, Flatten \n",
    "from keras.models import Model, Sequential \n",
    "from keras.engine import InputSpec, Layer \n",
    "from keras import regularizers \n",
    "from keras.optimizers import SGD, Adam \n",
    "from keras.utils.conv_utils import conv_output_length \n",
    "from keras import activations \n",
    "import numpy as np\n"
   ]
  },
  {
   "cell_type": "code",
   "execution_count": 2,
   "metadata": {},
   "outputs": [],
   "source": [
    "a = Input((160,60,3)) \n",
    "b = Input((160,60,3))\n"
   ]
  },
  {
   "cell_type": "code",
   "execution_count": 3,
   "metadata": {},
   "outputs": [],
   "source": [
    "model = Sequential() \n",
    "model.add(Conv2D(kernel_size = (5,5), filters = 20,input_shape = (160,60,3), activation = 'relu')) \n",
    "model.add(MaxPooling2D((2,2))) \n",
    "model.add(Conv2D(kernel_size = (5,5), filters = 25, activation = 'relu')) \n",
    "model.add(MaxPooling2D((2,2)))\n"
   ]
  },
  {
   "cell_type": "code",
   "execution_count": 4,
   "metadata": {},
   "outputs": [],
   "source": [
    "feat_map1 = model(b) \n",
    "feat_map2 = model(a)\n"
   ]
  },
  {
   "cell_type": "code",
   "execution_count": 12,
   "metadata": {},
   "outputs": [
    {
     "ename": "SyntaxError",
     "evalue": "invalid syntax (<ipython-input-12-9960a9744f46>, line 3)",
     "output_type": "error",
     "traceback": [
      "\u001b[1;36m  File \u001b[1;32m\"<ipython-input-12-9960a9744f46>\"\u001b[1;36m, line \u001b[1;32m3\u001b[0m\n\u001b[1;33m    create a class inherited from keras.engine.Layer.\u001b[0m\n\u001b[1;37m           ^\u001b[0m\n\u001b[1;31mSyntaxError\u001b[0m\u001b[1;31m:\u001b[0m invalid syntax\n"
     ]
    }
   ],
   "source": []
  },
  {
   "cell_type": "code",
   "execution_count": 5,
   "metadata": {},
   "outputs": [
    {
     "ename": "NameError",
     "evalue": "name 'Normalized_Correlation_Layer' is not defined",
     "output_type": "error",
     "traceback": [
      "\u001b[1;31m---------------------------------------------------------------------------\u001b[0m",
      "\u001b[1;31mNameError\u001b[0m                                 Traceback (most recent call last)",
      "\u001b[1;32m<ipython-input-5-edffaa688d30>\u001b[0m in \u001b[0;36m<module>\u001b[1;34m()\u001b[0m\n\u001b[1;32m----> 1\u001b[1;33m \u001b[0mnormalized_layer\u001b[0m \u001b[1;33m=\u001b[0m \u001b[0mNormalized_Correlation_Layer\u001b[0m\u001b[1;33m(\u001b[0m\u001b[0mstride\u001b[0m \u001b[1;33m=\u001b[0m \u001b[1;33m(\u001b[0m\u001b[1;36m1\u001b[0m\u001b[1;33m,\u001b[0m\u001b[1;36m1\u001b[0m\u001b[1;33m)\u001b[0m\u001b[1;33m,\u001b[0m \u001b[0mpatch_size\u001b[0m \u001b[1;33m=\u001b[0m \u001b[1;33m(\u001b[0m\u001b[1;36m5\u001b[0m\u001b[1;33m,\u001b[0m \u001b[1;36m5\u001b[0m\u001b[1;33m)\u001b[0m\u001b[1;33m)\u001b[0m\u001b[1;33m(\u001b[0m\u001b[1;33m[\u001b[0m\u001b[0mfeat_map1\u001b[0m\u001b[1;33m,\u001b[0m \u001b[0mfeat_map2\u001b[0m\u001b[1;33m]\u001b[0m\u001b[1;33m)\u001b[0m\u001b[1;33m\u001b[0m\u001b[0m\n\u001b[0m",
      "\u001b[1;31mNameError\u001b[0m: name 'Normalized_Correlation_Layer' is not defined"
     ]
    }
   ],
   "source": [
    "normalized_layer = Normalized_Correlation_Layer(stride = (1,1), patch_size = (5, 5))([feat_map1, feat_map2])"
   ]
  },
  {
   "cell_type": "code",
   "execution_count": null,
   "metadata": {},
   "outputs": [],
   "source": [
    "final_layer = Conv2D(kernel_size=(1,1), filters=25, activation='relu')(normalized_layer) \n",
    "final_layer = Conv2D(kernel_size=(3,3), filters=25, activation = None)(final_layer) \n",
    "final_layer = MaxPooling2D((2,2))(final_layer) \n",
    "final_layer = Dense(500)(final_layer) \n",
    "final_layer = Dense(2, activation = \"softmax\")(final_layer)\n"
   ]
  },
  {
   "cell_type": "code",
   "execution_count": 24,
   "metadata": {},
   "outputs": [
    {
     "ename": "SyntaxError",
     "evalue": "invalid syntax (<ipython-input-24-9960a9744f46>, line 3)",
     "output_type": "error",
     "traceback": [
      "\u001b[1;36m  File \u001b[1;32m\"<ipython-input-24-9960a9744f46>\"\u001b[1;36m, line \u001b[1;32m3\u001b[0m\n\u001b[1;33m    create a class inherited from keras.engine.Layer.\u001b[0m\n\u001b[1;37m           ^\u001b[0m\n\u001b[1;31mSyntaxError\u001b[0m\u001b[1;31m:\u001b[0m invalid syntax\n"
     ]
    }
   ],
   "source": [
    "class Normalized_Correlation_Layer(Layer):\n",
    "\n",
    "    create a class inherited from keras.engine.Layer.\n",
    "\n",
    "\tdef __init__(self, patch_size=(5,5), \n",
    "          dim_ordering='tf', \n",
    "          border_mode='same', \n",
    "          stride=(1, 1), \n",
    "          activation=None, \n",
    "          **kwargs): \n",
    "\n",
    "           if border_mode != 'same': \n",
    "              raise ValueError('Invalid border mode for Correlation Layer ' \n",
    "                         '(only \"same\" is supported as of now):', border_mode) \n",
    "           self.kernel_size = patch_size \n",
    "           self.subsample = stride \n",
    "           self.dim_ordering = dim_ordering \n",
    "           self.border_mode = border_mode \n",
    "           self.activation = activations.get(activation) \n",
    "           super(Normalized_Correlation_Layer, self).__init__(**kwargs)\n"
   ]
  },
  {
   "cell_type": "code",
   "execution_count": 22,
   "metadata": {},
   "outputs": [],
   "source": [
    "def compute_output_shape(self, input_shape):\n",
    "      return(input_shape[0][0], input_shape[0][1], input_shape[0][2], self.kernel_size[0] * input_shape[0][2]*input_shape[0][-1])\n"
   ]
  },
  {
   "cell_type": "code",
   "execution_count": null,
   "metadata": {},
   "outputs": [],
   "source": [
    "def get_config(self): \n",
    "   config = {'patch_size': self.kernel_size, \n",
    "          'activation': self.activation.__name__, \n",
    "          'border_mode': self.border_mode, \n",
    "          'stride': self.subsample, \n",
    "          'dim_ordering': self.dim_ordering} \n",
    "     base_config = super(Correlation_Layer, self).get_config() \n",
    "     return dict(list(base_config.items()) + list(config.items()))\n"
   ]
  },
  {
   "cell_type": "code",
   "execution_count": null,
   "metadata": {},
   "outputs": [],
   "source": [
    "input_1, input_2 = x \n",
    "     stride_row, stride_col = self.subsample \n",
    "     inp_shape = input_1._keras_shape\n"
   ]
  },
  {
   "cell_type": "code",
   "execution_count": null,
   "metadata": {},
   "outputs": [],
   "source": [
    "padding_row = (int(self.kernel_size[0] / 2),int(self.kernel_size[0] / 2)) \n",
    " padding_col = (int(self.kernel_size[1] / 2),int(self.kernel_size[1] / 2)) \n",
    " input_1 = K.spatial_2d_padding(input_1, padding =(padding_row,padding_col)) \n",
    " input_2 = K.spatial_2d_padding(input_2, padding = ((padding_row[0]*2, padding_row[1]*2),padding_col)) \n"
   ]
  },
  {
   "cell_type": "code",
   "execution_count": null,
   "metadata": {},
   "outputs": [],
   "source": [
    "output_row = output_shape[1] \n",
    "output_col = output_shape[2] \n"
   ]
  },
  {
   "cell_type": "code",
   "execution_count": null,
   "metadata": {},
   "outputs": [],
   "source": [
    "output = [] \n",
    "for k in range(inp_shape[-1]):\n"
   ]
  },
  {
   "cell_type": "code",
   "execution_count": null,
   "metadata": {},
   "outputs": [],
   "source": [
    "xc_1 = [] \n",
    "xc_2 = [] \n",
    "for i in range(padding_row[0]): \n",
    "   for j in range(output_col): \n",
    "      xc_2.append(K.reshape(input_2[:, i:i+self.kernel_size[0], j:j+self.kernel_size[1], k], \n",
    "                  (-1, 1,self.kernel_size[0]*self.kernel_size[1])))\n"
   ]
  },
  {
   "cell_type": "code",
   "execution_count": null,
   "metadata": {},
   "outputs": [],
   "source": [
    "for i in range(output_row): \n",
    "       slice_row = slice(i, i + self.kernel_size[0]) \n",
    "       slice_row2 = slice(i + padding_row[0], i +self.kernel_size[0] + padding_row[0]) \n",
    "       for j in range(output_col): \n",
    "          slice_col = slice(j, j + self.kernel_size[1]) \n",
    "          xc_2.append(K.reshape(input_2[:, slice_row2, slice_col, k], \n",
    "                      (-1, 1,self.kernel_size[0]*self.kernel_size[1]))) \n",
    "          xc_1.append(K.reshape(input_1[:, slice_row, slice_col, k], \n",
    "                        (-1, 1,self.kernel_size[0]*self.kernel_size[1])))\n"
   ]
  },
  {
   "cell_type": "code",
   "execution_count": null,
   "metadata": {},
   "outputs": [],
   "source": [
    "for i in range(output_row, output_row+padding_row[1]): \n",
    "       for j in range(output_col): \n",
    "           xc_2.append(K.reshape(input_2[:, i:i+ self.kernel_size[0], j:j+self.kernel_size[1], k], \n",
    "                       (-1, 1,self.kernel_size[0]*self.kernel_size[1]))) \n"
   ]
  },
  {
   "cell_type": "code",
   "execution_count": null,
   "metadata": {},
   "outputs": [],
   "source": [
    "xc_1_mean = K.mean(xc_1_aggregate, axis=-1, keepdims=True) \n",
    "xc_1_std = K.std(xc_1_aggregate, axis=-1, keepdims=True) \n",
    "xc_1_aggregate = (xc_1_aggregate - xc_1_mean) / xc_1_std\n"
   ]
  },
  {
   "cell_type": "code",
   "execution_count": null,
   "metadata": {},
   "outputs": [],
   "source": [
    "xc_2_aggregate = K.concatenate(xc_2, axis=1)\n",
    "xc_2_mean = K.mean(xc_2_aggregate, axis=-1, keepdims=True) \n",
    "xc_2_std = K.std(xc_2_aggregate, axis=-1, keepdims=True) \n",
    "xc_2_aggregate = (xc_2_aggregate - xc_2_mean) / xc_2_std\n"
   ]
  },
  {
   "cell_type": "code",
   "execution_count": null,
   "metadata": {},
   "outputs": [],
   "source": [
    "xc_1_aggregate = K.permute_dimensions(xc_1_aggregate, (0, 2, 1)) \n",
    "     block = [] \n",
    "     len_xc_1= len(xc_1) \n",
    "     for i in range(len_xc_1):\n",
    "\t\t     #This for loop is to compute the product of a given patch of feature map 1 and the feature maps on which it is supposed to\n",
    "         sl1 = slice(int(i/inp_shape[2])*inp_shape[2], \n",
    "              int(i/inp_shape[2])*inp_shape[2]+inp_shape[2]*self.kernel_\n",
    "size[0]) \n",
    "\t\t\t      #This calculates which are the patches of feature map 2 to be considered for a given patch of first feature map.\n",
    "\n",
    "         block.append(K.reshape(K.batch_dot(xc_2_aggregate[:,sl1,:], \n",
    "                      xc_1_aggregate[:,:,i]),(-1,1,1,inp_shape[2] *self.kernel_size[0]))) \n"
   ]
  },
  {
   "cell_type": "code",
   "execution_count": null,
   "metadata": {},
   "outputs": [],
   "source": [
    "block = K.concatenate(block, axis=1) \n",
    "     block= K.reshape(block,(-1,output_row,output_col,inp_shape[2] *self.kernel_size[0])) \n",
    "     output.append(block)\n"
   ]
  },
  {
   "cell_type": "code",
   "execution_count": null,
   "metadata": {},
   "outputs": [],
   "source": [
    "output = self.activation(output) \n",
    "return output\n"
   ]
  }
 ],
 "metadata": {
  "kernelspec": {
   "display_name": "Python 3",
   "language": "python",
   "name": "python3"
  },
  "language_info": {
   "codemirror_mode": {
    "name": "ipython",
    "version": 3
   },
   "file_extension": ".py",
   "mimetype": "text/x-python",
   "name": "python",
   "nbconvert_exporter": "python",
   "pygments_lexer": "ipython3",
   "version": "3.6.4"
  }
 },
 "nbformat": 4,
 "nbformat_minor": 2
}
