{
 "cells": [
  {
   "cell_type": "code",
   "execution_count": 1,
   "metadata": {},
   "outputs": [
    {
     "name": "stderr",
     "output_type": "stream",
     "text": [
      "C:\\Users\\user\\Anaconda3\\lib\\site-packages\\h5py\\__init__.py:36: FutureWarning: Conversion of the second argument of issubdtype from `float` to `np.floating` is deprecated. In future, it will be treated as `np.float64 == np.dtype(float).type`.\n",
      "  from ._conv import register_converters as _register_converters\n",
      "Using TensorFlow backend.\n"
     ]
    }
   ],
   "source": [
    "'''Autores: Daniel Esteban Cifuentes Cossio\n",
    "            Cristian Cano Osorio\n",
    "   Asesor:  Pedro Atencio Ortiz'''\n",
    "\n",
    "#Carga de librerias necesarias\n",
    "\n",
    "import numpy as np\n",
    "import pickle as pk\n",
    "\n",
    "from keras.models import Model\n",
    "from keras.applications import vgg16\n",
    "from keras.applications.vgg16 import preprocess_input, decode_predictions\n",
    "from keras.preprocessing import image\n",
    "\n",
    "from skimage.io import imread, imshow\n",
    "from skimage.transform import resize\n",
    "import cv2\n",
    "\n",
    "from PIL import Image\n",
    "\n",
    "from os import listdir\n",
    "from os.path import isfile\n",
    "\n"
   ]
  },
  {
   "cell_type": "code",
   "execution_count": 2,
   "metadata": {},
   "outputs": [],
   "source": [
    "'''\n",
    "Pedro Atencio\n",
    "2018\n",
    "Este ejemplo extrae la activacion de la pernultima capa\n",
    "de una red neuronal profunda pre-entrenada. En este caso\n",
    "VGG16. \n",
    "En este codigo se utilizo Keras 2.1.6, Tensorflow 1.8.0\n",
    "'''\n",
    "#1. Cargamos el modelo completo\n",
    "vgg16_model = vgg16.VGG16(include_top=True, weights='imagenet', input_tensor=None, input_shape=None, pooling=None, classes=1000)\n",
    "\n",
    "#2. Creamos el modelo intermedio (penultima capa) a partir del modelo completo\n",
    "vgg16_int_model = Model(inputs=vgg16_model.input, outputs = vgg16_model.get_layer('fc2').output)\n",
    "\n",
    "\n",
    "#Función la cual carga una imagen, se pre-procesa y se obtiene el vector de activación\n",
    "\n",
    "def obtenerActivacion(img):\n",
    "\n",
    "    #Cargamos la imagen y la pre-procesamos\n",
    "    x = resize(img, output_shape=(224, 224))\n",
    "    x = np.expand_dims(x, axis=0)\n",
    "    x = x.astype(np.float64)*255.0\n",
    "    x = x = preprocess_input(x)\n",
    "\n",
    "    #Enviamos la imagen al modelo y obtenemos el vector de activacion de la penultima capa\n",
    "    deep_feature = vgg16_int_model.predict(x)\n",
    "    return deep_feature\n",
    "    "
   ]
  },
  {
   "cell_type": "code",
   "execution_count": 3,
   "metadata": {},
   "outputs": [],
   "source": [
    "'''Método para traer la intersección de una imagen a color (3 canales)\n",
    "y su respectiva mascara (1 canal)'''\n",
    "\n",
    "\n",
    "def transformarImagen(rutaColor,rutaBlancoNegro):\n",
    "        \n",
    "    #Se lee las imagenenes\n",
    "    imagenColor = imread(rutaColor)\n",
    "    imagenBN = imread(rutaBlancoNegro)\n",
    "    #se utiliza bitwise_and para obtener su intersección\n",
    "    imcv = cv2.bitwise_and(imagenColor[:,:,0],imagenBN,1)\n",
    "    imcv2 = cv2.bitwise_and(imagenColor[:,:,1],imagenBN,1)\n",
    "    imcv3 = cv2.bitwise_and(imagenColor[:,:,2],imagenBN,1)\n",
    "    \n",
    "    #se convierte nuevamente a una imagén RGB (3 canales)\n",
    "    rgbArray = np.zeros((480,640,3), 'uint8')\n",
    "    rgbArray[..., 0] = imcv\n",
    "    rgbArray[..., 1] = imcv2\n",
    "    rgbArray[..., 2] = imcv3\n",
    "    img = Image.fromarray(rgbArray)  \n",
    "    image = np.asarray(img, dtype=np.uint8)\n",
    "\n",
    "    return (image)\n"
   ]
  },
  {
   "cell_type": "code",
   "execution_count": 4,
   "metadata": {},
   "outputs": [],
   "source": [
    "#Guarda una matriz en una ruta especifica\n",
    "def saveMatrix(name, path, matrix):\n",
    "    sv=path+name\n",
    "    with open(sv,'wb') as fp:\n",
    "        pk.dump(matrix,fp)\n",
    "\n",
    "#Carga una matriz en una ruta especifica\n",
    "def loadMatrix(name, path):\n",
    "    sv=path+name\n",
    "    with open(sv,'rb') as fp:\n",
    "        return pk.load(fp)"
   ]
  },
  {
   "cell_type": "code",
   "execution_count": 5,
   "metadata": {},
   "outputs": [],
   "source": [
    "#Obtiene la cantidad de archivos en una ruta especifica\n",
    "def get_dataset_size(path):\n",
    "    files = listdir(path)\n",
    "    \n",
    "    number_of_folders = 0\n",
    "    for f in files:\n",
    "        number_of_folders += 1\n",
    "    \n",
    "    return number_of_folders"
   ]
  },
  {
   "cell_type": "code",
   "execution_count": 6,
   "metadata": {
    "scrolled": true
   },
   "outputs": [
    {
     "name": "stderr",
     "output_type": "stream",
     "text": [
      "C:\\Users\\user\\Anaconda3\\lib\\site-packages\\skimage\\transform\\_warps.py:84: UserWarning: The default mode, 'constant', will be changed to 'reflect' in skimage 0.15.\n",
      "  warn(\"The default mode, 'constant', will be changed to 'reflect' in \"\n"
     ]
    }
   ],
   "source": [
    "'''Ejemplo de ejecución\n",
    "\n",
    "Este ejemplo crea un archivo llamado prueba\n",
    "el cual contiene una matriz de mx4096 donde m\n",
    "es igual al número de imagenes procesadas, \n",
    "los datos para la matriz son los obtenidos por \n",
    "el modelo vgg16 en su penúltima capa'''\n",
    "\n",
    "\n",
    "pathFolderRoot = \"../Dataset/\"\n",
    "pathFolderResult = \"../Results/\"\n",
    "pathImagesColor = pathFolderRoot+\"/Color/A/tr01_cam00/\"\n",
    "pathImagesSegment = pathFolderRoot+\"/Segmentado/A/tr01_cam00/\"\n",
    "    \n",
    "imagesColor = listdir(pathImagesColor)\n",
    "imagesSegment = listdir(pathImagesSegment)\n",
    "matrixTotal = 0\n",
    "i = 0\n",
    "\n",
    "for img in imagesColor:\n",
    "    if (int(img.split(\".\")[0]) > 169):\n",
    "        ##se obtiene cada imagén\n",
    "        i = i +1\n",
    "        imgColor = imread(pathImagesColor+img)\n",
    "        imgSegment = imread(pathImagesSegment+img)\n",
    "        ##Se obtiene la intersección de las imagenes\n",
    "        imgTransform = transformarImagen(pathImagesColor+img,pathImagesSegment+img)\n",
    "        ##Se obtiene la activación\n",
    "        vector = obtenerActivacion(imgTransform)\n",
    "        ##se comienza a partir de la imagén que tambien tiene una mascara\n",
    "        if(int(img.split(\".\")[0]) == 170):\n",
    "            matrixTotal = vector\n",
    "        else:\n",
    "            matrixTotal = np.concatenate ((matrixTotal,vector),axis = 0)\n",
    "            \n",
    "saveMatrix('prueba',pathFolderResult,matrixTotal)\n",
    "\n",
    "            \n"
   ]
  },
  {
   "cell_type": "code",
   "execution_count": 10,
   "metadata": {},
   "outputs": [
    {
     "name": "stdout",
     "output_type": "stream",
     "text": [
      "tamaño (205, 4096)\n",
      "[[0.         0.5770166  0.51340777 ... 0.         0.         1.2363524 ]\n",
      " [0.         0.8326682  0.5063835  ... 0.         0.         1.2805879 ]\n",
      " [0.         0.58754545 0.4720834  ... 0.         0.         1.5510166 ]\n",
      " ...\n",
      " [0.         0.41070285 0.21805173 ... 0.         0.         0.2684066 ]\n",
      " [0.         0.41070285 0.21805173 ... 0.         0.         0.2684066 ]\n",
      " [0.         0.41070285 0.21805173 ... 0.         0.         0.2684066 ]]\n"
     ]
    }
   ],
   "source": [
    "#Verificación de la matrix guardada\n",
    "loadedMatrix = loadMatrix('prueba', pathFolderResult)\n",
    "print ('tamaño',loadedMatrix.shape)\n",
    "print (loadedMatrix)\n"
   ]
  },
  {
   "cell_type": "code",
   "execution_count": null,
   "metadata": {},
   "outputs": [],
   "source": []
  }
 ],
 "metadata": {
  "kernelspec": {
   "display_name": "Python 3",
   "language": "python",
   "name": "python3"
  },
  "language_info": {
   "codemirror_mode": {
    "name": "ipython",
    "version": 3
   },
   "file_extension": ".py",
   "mimetype": "text/x-python",
   "name": "python",
   "nbconvert_exporter": "python",
   "pygments_lexer": "ipython3",
   "version": "3.6.4"
  }
 },
 "nbformat": 4,
 "nbformat_minor": 2
}
